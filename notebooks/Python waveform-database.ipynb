{
 "cells": [
  {
   "cell_type": "markdown",
   "metadata": {
    "application/vnd.databricks.v1+cell": {
     "cellMetadata": {},
     "inputWidgets": {},
     "nuid": "def9f008-78e1-45ad-b6b1-525f6fad19b7",
     "showTitle": false,
     "title": ""
    }
   },
   "source": [
    "http://wfdb.readthedocs.io/"
   ]
  },
  {
   "cell_type": "code",
   "execution_count": 0,
   "metadata": {
    "application/vnd.databricks.v1+cell": {
     "cellMetadata": {
      "byteLimit": 2048000,
      "rowLimit": 10000
     },
     "inputWidgets": {},
     "nuid": "d227f515-0b4d-4f17-870f-bfe155a27ff4",
     "showTitle": false,
     "title": ""
    }
   },
   "outputs": [],
   "source": [
    "from IPython.display import display\n",
    "import matplotlib.pyplot as plt\n",
    "%matplotlib inline\n",
    "import numpy as np\n",
    "import os\n",
    "import shutil\n",
    "import posixpath\n",
    "\n",
    "import wfdb"
   ]
  },
  {
   "cell_type": "code",
   "execution_count": 0,
   "metadata": {
    "application/vnd.databricks.v1+cell": {
     "cellMetadata": {
      "byteLimit": 2048000,
      "rowLimit": 10000
     },
     "inputWidgets": {},
     "nuid": "3d0ef48a-477e-4fdc-8649-77d53ade3fb0",
     "showTitle": false,
     "title": ""
    }
   },
   "outputs": [],
   "source": [
    "%ls -l /Volumes/catalog1/schema1/data/respiration/bidmc01*"
   ]
  },
  {
   "cell_type": "code",
   "execution_count": 0,
   "metadata": {
    "application/vnd.databricks.v1+cell": {
     "cellMetadata": {
      "byteLimit": 2048000,
      "rowLimit": 10000
     },
     "inputWidgets": {},
     "nuid": "f6d9df91-5e3d-41c7-8109-ce6f478694c3",
     "showTitle": false,
     "title": ""
    }
   },
   "outputs": [],
   "source": [
    "# Demo 1 - Read a WFDB record using the 'rdrecord' function into a wfdb.Record object.\n",
    "# Plot the signals, and show the data.\n",
    "record = wfdb.rdrecord('/Volumes/catalog1/schema1/data/respiration/bidmc01') \n",
    "wfdb.plot_wfdb(record=record, title='Record a103l from PhysioNet Challenge 2015') \n",
    "display(record.__dict__)"
   ]
  },
  {
   "cell_type": "code",
   "execution_count": 0,
   "metadata": {
    "application/vnd.databricks.v1+cell": {
     "cellMetadata": {
      "byteLimit": 2048000,
      "rowLimit": 10000
     },
     "inputWidgets": {},
     "nuid": "18fe6644-1fc2-4d47-b8c2-7c14e8dc868d",
     "showTitle": false,
     "title": ""
    }
   },
   "outputs": [],
   "source": [
    "# Demo 2 - Read certain channels and sections of the WFDB record using the simplified 'rdsamp' function\n",
    "# which returns a numpy array and a dictionary. Show the data.\n",
    "signals, fields = wfdb.rdsamp('/Volumes/catalog1/schema1/data/respiration/bidmc01', channels=[0, 2], sampfrom=100, sampto=15000)\n",
    "display(signals)\n",
    "display(fields)\n",
    "\n",
    "# Can also read the same files hosted on Physionet\n",
    "# signals2, fields2 = wfdb.rdsamp('s0010_re', channels=[14, 0, 5, 10], sampfrom=100, sampto=15000, pn_dir='ptbdb/patient001/')"
   ]
  },
  {
   "cell_type": "code",
   "execution_count": 0,
   "metadata": {
    "application/vnd.databricks.v1+cell": {
     "cellMetadata": {
      "byteLimit": 2048000,
      "rowLimit": 10000
     },
     "inputWidgets": {},
     "nuid": "befef255-e156-4d44-b5da-70bac160bb77",
     "showTitle": false,
     "title": ""
    }
   },
   "outputs": [],
   "source": [
    "# Demo 3 - Read a WFDB header file only (without the signals)\n",
    "record = wfdb.rdheader('/Volumes/catalog1/schema1/data/respiration/bidmc01')\n",
    "display(record.__dict__)\n",
    "\n",
    "# Can also read the same file hosted on Physionet\n",
    "record2 = wfdb.rdheader('drive02', pn_dir='drivedb')"
   ]
  },
  {
   "cell_type": "code",
   "execution_count": 0,
   "metadata": {
    "application/vnd.databricks.v1+cell": {
     "cellMetadata": {
      "byteLimit": 2048000,
      "rowLimit": 10000
     },
     "inputWidgets": {},
     "nuid": "117976e0-c886-4dd8-81f8-b7ab5ae94fe4",
     "showTitle": false,
     "title": ""
    }
   },
   "outputs": [],
   "source": [
    "# Demo 4 - Read part of a WFDB annotation file into a wfdb.Annotation object, and plot the samples\n",
    "annotation = wfdb.rdann('sample-data/100', 'atr', sampfrom=100000, sampto=110000)\n",
    "annotation.fs = 360\n",
    "wfdb.plot_wfdb(annotation=annotation, time_units='minutes')\n",
    "\n",
    "# Can also read the same file hosted on PhysioNet \n",
    "annotation2 = wfdb.rdann('100', 'atr', sampfrom=100000, sampto=110000, pn_dir='mitdb')"
   ]
  },
  {
   "cell_type": "code",
   "execution_count": 0,
   "metadata": {
    "application/vnd.databricks.v1+cell": {
     "cellMetadata": {},
     "inputWidgets": {},
     "nuid": "c9629bfb-3e23-4957-9fde-7453027d1ab3",
     "showTitle": false,
     "title": ""
    }
   },
   "outputs": [],
   "source": [
    "# Demo 5 - Read a WFDB record and annotation. Plot all channels, and the annotation on top of channel 0.\n",
    "record = wfdb.rdrecord('sample-data/100', sampto = 15000)\n",
    "annotation = wfdb.rdann('sample-data/100', 'atr', sampto = 15000)\n",
    "\n",
    "wfdb.plot_wfdb(record=record, annotation=annotation,\n",
    "               title='Record 100 from MIT-BIH Arrhythmia Database',\n",
    "               time_units='seconds')"
   ]
  },
  {
   "cell_type": "markdown",
   "metadata": {
    "application/vnd.databricks.v1+cell": {
     "cellMetadata": {},
     "inputWidgets": {},
     "nuid": "1af9b672-41ed-4e15-85db-e786744eac16",
     "showTitle": false,
     "title": ""
    }
   },
   "source": [
    "### Multiple sample/frame examples\n",
    "\n",
    "Although there can only be one base sampling frequency per record, a single WFDB record can store multiple channels with different sampling frequencies, as long as their sampling frequencies can all be expressed by an integer multiple of a base value. This is done by using the `samps_per_frame` attribute in each channel, which indicates the number of samples of each channel present in each frame.\n",
    "\n",
    "ie: To capture three signals with sampling frequencies of 120, 240, and 360 Hz, in a single record, they can be combined into a record with `fs=120` and `samps_per_frame = [1, 2, 3]`.\n",
    "\n",
    "#### Reading Options\n",
    "\n",
    "This package allows signals in records with multiple samples/frame to be read in two ways:\n",
    "1. smoothed - An uniform mxn numpy is returned as the d_signal or p_signal field. Channels with multiple samples/frame have their values averaged within each frame. This is like the behaviour of the `rdsamp` function of the original WFDB c package. Note that `wfdb.plot_record` only works if the record object has the `p_signals` field.\n",
    "2. expanded - A list of 1d numpy arrays is returned as the e_d_signal or e_p_signal field. All samples for each channel are returned in its respective numpy array. The arrays may have different lengths depending on their `samps_per_frame` values.\n",
    "\n",
    "Set the `smooth_frames` *(default=True)* option in `rdrecord` to return the desired signal type."
   ]
  },
  {
   "cell_type": "markdown",
   "metadata": {
    "application/vnd.databricks.v1+cell": {
     "cellMetadata": {},
     "inputWidgets": {},
     "nuid": "8aea0f54-0d33-49cd-8abb-210853942d20",
     "showTitle": false,
     "title": ""
    }
   },
   "source": [
    "### Multisegment waveform examples\n",
    "\n",
    "The following sections load and plots waveforms from the MIMIC matched waveform database. These waveforms have been matched to clinical data in the MIMIC Clinical database. The input records are multi-segment (made up of multiple individual WFDB records) and relatively long.\n",
    "\n",
    "Note that these kinds of records contain segments in which certain channels are missing. <strong>matplotlib</strong> automatically zooms in on sections without Nans in individual channels but the entire durations of the signals input into <strong>plotrec</strong> are actually plotted. \n",
    "\n"
   ]
  },
  {
   "cell_type": "code",
   "execution_count": 0,
   "metadata": {
    "application/vnd.databricks.v1+cell": {
     "cellMetadata": {},
     "inputWidgets": {},
     "nuid": "4bd975d1-355c-427d-99a6-2f6485999bc3",
     "showTitle": false,
     "title": ""
    }
   },
   "outputs": [],
   "source": [
    "# Demo 6 - Read the multi-segment record and plot waveforms from the MIMIC matched waveform database. \n",
    "record = wfdb.rdrecord('sample-data/multi-segment/p000878/3269321_0001')\n",
    "wfdb.plot_wfdb(record=record, title='Record p000878/3269321_0001') \n",
    "display(record.__dict__)\n",
    "\n",
    "# Can also read the same files hosted on PhysioNet (takes long to stream the many large files)\n",
    "signals, fields = wfdb.rdsamp('3269321_0001', pn_dir = 'mimic3wdb/matched/p00/p000878')\n",
    "wfdb.plot_items(signal=signals, fs=fields['fs'], title='Record p000878/3269321_0001')\n",
    "display((signals, fields))"
   ]
  },
  {
   "cell_type": "code",
   "execution_count": 0,
   "metadata": {
    "application/vnd.databricks.v1+cell": {
     "cellMetadata": {},
     "inputWidgets": {},
     "nuid": "095120fa-89ca-4c5f-84d8-ac91ade1e70e",
     "showTitle": false,
     "title": ""
    }
   },
   "outputs": [],
   "source": [
    "# Demo 7 - Read the multi-segment record and plot waveforms from the MIMIC matched waveform database.\n",
    "# Notice that some channels have no valid values to plot\n",
    "record = wfdb.rdrecord('sample-data/multi-segment/p000878/3269321_0001',\n",
    "                       sampfrom=300, sampto=1000)\n",
    "wfdb.plot_wfdb(record, title='Record p000878/3269321_0001') \n",
    "display(record.__dict__)\n",
    "\n",
    "# Can also read the same files hosted on Physionet\n",
    "record2 = wfdb.rdrecord('3269321_0001', sampfrom=300, sampto=1000,\n",
    "                        pn_dir = 'mimic3wdb/matched/p00/p000878')"
   ]
  },
  {
   "cell_type": "code",
   "execution_count": 0,
   "metadata": {
    "application/vnd.databricks.v1+cell": {
     "cellMetadata": {},
     "inputWidgets": {},
     "nuid": "61540763-e687-4a33-bb04-1f40e714b7c4",
     "showTitle": false,
     "title": ""
    }
   },
   "outputs": [],
   "source": [
    "# Demo 8 - Read a WFDB record in which one channel has multiple samples/frame. Return a smoothed uniform array.\n",
    "record = wfdb.rdrecord('sample-data/test01_00s_frame')\n",
    "wfdb.plot_wfdb(record)"
   ]
  },
  {
   "cell_type": "code",
   "execution_count": 0,
   "metadata": {
    "application/vnd.databricks.v1+cell": {
     "cellMetadata": {
      "byteLimit": 2048000,
      "rowLimit": 10000
     },
     "inputWidgets": {},
     "nuid": "0f231909-df97-4f38-b429-e4ae7605a58f",
     "showTitle": false,
     "title": ""
    }
   },
   "outputs": [],
   "source": [
    "from IPython.display import display\n",
    "import matplotlib.pyplot as plt\n",
    "%matplotlib inline\n",
    "import numpy as np\n",
    "import os\n",
    "import shutil\n",
    "import posixpath\n",
    "\n",
    "import wfdb"
   ]
  },
  {
   "cell_type": "code",
   "execution_count": 0,
   "metadata": {
    "application/vnd.databricks.v1+cell": {
     "cellMetadata": {
      "byteLimit": 2048000,
      "rowLimit": 10000
     },
     "inputWidgets": {},
     "nuid": "aa922aea-62b9-4dbe-9752-a27c56b442ce",
     "showTitle": false,
     "title": ""
    }
   },
   "outputs": [],
   "source": [
    "# Demo 9 - Read a WFDB record in which one channel has multiple samples/frame. Return a list of all the expanded samples.\n",
    "record = wfdb.rdrecord('/Volumes/catalog1/schema1/data/respiration/bidmc01', smooth_frames=False)\n",
    "\n",
    "display(record.e_p_signal)\n",
    "# Show that different channels have different lengths. Channel 1 has 2 samples/frame, hence has 2x as many samples.\n",
    "print([len(s) for s in record.e_p_signal])\n",
    "\n",
    "# wfdb.plotrec doesn't work because the Record object is missing its p_signals field."
   ]
  },
  {
   "cell_type": "markdown",
   "metadata": {
    "application/vnd.databricks.v1+cell": {
     "cellMetadata": {},
     "inputWidgets": {},
     "nuid": "9430f389-902b-4dff-9007-3e9af4c355fb",
     "showTitle": false,
     "title": ""
    }
   },
   "source": [
    "## Writing Records and Annotations"
   ]
  },
  {
   "cell_type": "code",
   "execution_count": 0,
   "metadata": {
    "application/vnd.databricks.v1+cell": {
     "cellMetadata": {},
     "inputWidgets": {},
     "nuid": "b06c015a-0ffa-47f1-85e7-6a8d1a8ea34b",
     "showTitle": false,
     "title": ""
    }
   },
   "outputs": [],
   "source": []
  },
  {
   "cell_type": "code",
   "execution_count": 0,
   "metadata": {
    "application/vnd.databricks.v1+cell": {
     "cellMetadata": {},
     "inputWidgets": {},
     "nuid": "bc808ba9-5ccc-4498-bf78-d2ad89f60e14",
     "showTitle": false,
     "title": ""
    }
   },
   "outputs": [],
   "source": [
    "# Demo 10 - Read a WFDB record's digital samples and create a copy via the wrsamp() instance method of the Record object.\n",
    "\n",
    "# Read a record as a Record object.\n",
    "record = wfdb.rdrecord('sample-data/100', physical=False)\n",
    "record.record_name = '100x'\n",
    "\n",
    "# Call the instance method of the object\n",
    "record.wrsamp()\n",
    "\n",
    "# The new file can be read\n",
    "record_x = wfdb.rdrecord('100x')\n",
    "\n",
    "# Cleanup: delete the created files\n",
    "# os.remove('100x.hea')\n",
    "# os.remove('100.dat')"
   ]
  },
  {
   "cell_type": "code",
   "execution_count": 0,
   "metadata": {
    "application/vnd.databricks.v1+cell": {
     "cellMetadata": {},
     "inputWidgets": {},
     "nuid": "dc5b9f54-24b5-404d-9106-992c5380b5db",
     "showTitle": false,
     "title": ""
    }
   },
   "outputs": [],
   "source": [
    "# Demo 11 - Write a WFDB record without using a Record object via the gateway wrsamp function.\n",
    "# This is the basic way to write physical signals to a WFDB file. \n",
    "\n",
    "# Read part of a record from Physionet\n",
    "sig, fields = wfdb.rdsamp('a103l', sampfrom=50000, channels=[0,1], pn_dir='challenge-2015/training')\n",
    "\n",
    "# Call the gateway wrsamp function, manually inserting fields as function input parameters\n",
    "wfdb.wrsamp('ecg-record', fs=250, units=['mV', 'mV'], sig_name=['I', 'II'], p_signal=sig, fmt=['16', '16'])\n",
    "\n",
    "# The new file can be read\n",
    "record = wfdb.rdrecord('ecg-record')\n",
    "\n",
    "# Cleanup: delete the created files\n",
    "# os.remove('ecg-record.hea')\n",
    "# os.remove('ecg-record.dat')"
   ]
  },
  {
   "cell_type": "code",
   "execution_count": 0,
   "metadata": {
    "application/vnd.databricks.v1+cell": {
     "cellMetadata": {},
     "inputWidgets": {},
     "nuid": "519d8303-1e3d-4340-aff3-68c7c67e5dde",
     "showTitle": false,
     "title": ""
    }
   },
   "outputs": [],
   "source": [
    "wfdb.plot_wfdb(record)"
   ]
  },
  {
   "cell_type": "code",
   "execution_count": 0,
   "metadata": {
    "application/vnd.databricks.v1+cell": {
     "cellMetadata": {},
     "inputWidgets": {},
     "nuid": "0eebb1ad-2752-48b3-8f29-47f3c2ff6506",
     "showTitle": false,
     "title": ""
    }
   },
   "outputs": [],
   "source": [
    "from IPython.display import display\n",
    "import matplotlib.pyplot as plt\n",
    "%matplotlib inline\n",
    "import numpy as np\n",
    "import os\n",
    "import shutil\n",
    "import posixpath\n",
    "\n",
    "\n",
    "import wfdb"
   ]
  },
  {
   "cell_type": "code",
   "execution_count": 0,
   "metadata": {
    "application/vnd.databricks.v1+cell": {
     "cellMetadata": {},
     "inputWidgets": {},
     "nuid": "cdfcebc1-f062-4e4a-98c2-f993d395cac9",
     "showTitle": false,
     "title": ""
    }
   },
   "outputs": [],
   "source": [
    "# Demo 12 - Write a WFDB record with multiple samples/frame in a channel\n",
    "\n",
    "# Read a record as a Record object.\n",
    "record = wfdb.rdrecord('sample-data/test01_00s_frame', physical=False, smooth_frames=False)\n",
    "record.record_name = 'test01_00s_framex'\n",
    "\n",
    "# Call the instance method of the object with expanded=True to write the record using the e_d_signal field\n",
    "record.wrsamp(expanded=True)\n",
    "\n",
    "# The new file can be read\n",
    "recordx = wfdb.rdrecord('test01_00s_framex')\n",
    "\n",
    "# Cleanup: deleted the created files\n",
    "# os.remove('test01_00s_framex.hea')\n",
    "# os.remove('test01_00s.dat')"
   ]
  },
  {
   "cell_type": "code",
   "execution_count": 0,
   "metadata": {
    "application/vnd.databricks.v1+cell": {
     "cellMetadata": {},
     "inputWidgets": {},
     "nuid": "3170fd49-3a55-4cd2-bf34-73bd7b19b6c2",
     "showTitle": false,
     "title": ""
    }
   },
   "outputs": [],
   "source": [
    "# Demo 13 - Read a WFDB annotation file and create a copy via the wrann() instance method\n",
    "# of the Annotation object\n",
    "\n",
    "# Read an annotation from Physionet\n",
    "annotation = wfdb.rdann('sample-data/100', 'atr')\n",
    "annotation.extension = 'cpy'\n",
    "\n",
    "# Call the instance method of the object\n",
    "annotation.wrann()\n",
    "\n",
    "# The new file can be read\n",
    "annotation_copy = wfdb.rdann('100', 'cpy')\n",
    "\n",
    "# Cleanup: deleted the created files\n",
    "# os.remove('100.cpy')"
   ]
  },
  {
   "cell_type": "code",
   "execution_count": 0,
   "metadata": {
    "application/vnd.databricks.v1+cell": {
     "cellMetadata": {},
     "inputWidgets": {},
     "nuid": "907f0bb1-bc61-4cd1-a778-5a8e87352eab",
     "showTitle": false,
     "title": ""
    }
   },
   "outputs": [],
   "source": [
    "# Demo 14 - Write a WFDB annotation file without using an Annotator\n",
    "# object via the gateway wrann function.\n",
    "\n",
    "# Read an annotation as an Annotation object\n",
    "annotation = wfdb.rdann('b001', 'atr', pn_dir='cebsdb')\n",
    "\n",
    "# Call the gateway wrann function, manually inserting fields as function input parameters\n",
    "wfdb.wrann('b001', 'cpy', annotation.sample, annotation.symbol)\n",
    "\n",
    "# The new file can be read\n",
    "annotation_copy = wfdb.rdann('b001', 'cpy')\n",
    "\n",
    "# Cleanup: deleted the created files\n",
    "# os.remove('b001.cpy')"
   ]
  },
  {
   "cell_type": "code",
   "execution_count": 0,
   "metadata": {
    "application/vnd.databricks.v1+cell": {
     "cellMetadata": {},
     "inputWidgets": {},
     "nuid": "0ecb0c59-ebce-4f8b-a2c6-983f18c9718f",
     "showTitle": false,
     "title": ""
    }
   },
   "outputs": [],
   "source": [
    "# Demo 15 - View the standard WFDB annotation labels\n",
    "wfdb.show_ann_labels()"
   ]
  },
  {
   "cell_type": "markdown",
   "metadata": {
    "application/vnd.databricks.v1+cell": {
     "cellMetadata": {},
     "inputWidgets": {},
     "nuid": "c623f282-596f-41c7-93bd-7385e6c28674",
     "showTitle": false,
     "title": ""
    }
   },
   "source": [
    "## Downloading Content from Physionet\n",
    "\n",
    "- The downloads are made via http\n",
    "- See the above demos for examples on streaming WFDB files stored in PhysioNet without downloading them to local disk\n",
    "- PhysioNet has rsync modules for downloading entire databases for users who have access to rsync.  "
   ]
  },
  {
   "cell_type": "code",
   "execution_count": 0,
   "metadata": {
    "application/vnd.databricks.v1+cell": {
     "cellMetadata": {},
     "inputWidgets": {},
     "nuid": "8d709b69-7b40-400b-9944-8bb774e6f9d9",
     "showTitle": false,
     "title": ""
    }
   },
   "outputs": [],
   "source": [
    "# Demo 16 - List the PhysioNet Databases\n",
    "\n",
    "dbs = wfdb.get_dbs()\n",
    "display(dbs)"
   ]
  },
  {
   "cell_type": "code",
   "execution_count": 0,
   "metadata": {
    "application/vnd.databricks.v1+cell": {
     "cellMetadata": {},
     "inputWidgets": {},
     "nuid": "3dcecdb4-7c85-42da-a4fa-2c8b03767412",
     "showTitle": false,
     "title": ""
    }
   },
   "outputs": [],
   "source": [
    "# Demo 17 - Download all the WFDB records and annotations from a small PhysioNet Database\n",
    "\n",
    "# Make a temporary download directory in your current working directory\n",
    "cwd = os.getcwd()\n",
    "dl_dir = os.path.join(cwd, 'tmp_dl_dir')\n",
    "\n",
    "# Download all the WFDB content\n",
    "wfdb.dl_database('ahadb', dl_dir=dl_dir)\n",
    "\n",
    "# Display the downloaded content in the folder\n",
    "display(os.listdir(dl_dir))\n",
    "\n",
    "# Cleanup: delete the downloaded directory\n",
    "# shutil.rmtree(dl_dir)"
   ]
  },
  {
   "cell_type": "code",
   "execution_count": 0,
   "metadata": {
    "application/vnd.databricks.v1+cell": {
     "cellMetadata": {},
     "inputWidgets": {},
     "nuid": "17245f35-e67d-48b0-9ce6-4dfc9a72c16c",
     "showTitle": false,
     "title": ""
    }
   },
   "outputs": [],
   "source": [
    "# Demo 18 - Download specified files from a PhysioNet database\n",
    "\n",
    "# The files to download\n",
    "file_list = ['STAFF-Studies-bibliography-2016.pdf',\n",
    "             'data/001a.hea',\n",
    "             'data/001a.dat',\n",
    "             'data/001b.hea',\n",
    "             'data/001b.dat']\n",
    "\n",
    "# Make a temporary download directory in your current working directory\n",
    "cwd = os.getcwd()\n",
    "dl_dir = os.path.join(cwd, 'tmp_dl_dir')\n",
    "\n",
    "# Download the listed files\n",
    "wfdb.dl_files('staffiii', dl_dir, file_list)\n",
    "\n",
    "# Display the downloaded content in the folder\n",
    "display(os.listdir(dl_dir))\n",
    "display(os.listdir(os.path.join(dl_dir, 'data')))\n",
    "\n",
    "# Cleanup: delete the downloaded directory\n",
    "# shutil.rmtree(dl_dir)"
   ]
  },
  {
   "cell_type": "markdown",
   "metadata": {
    "application/vnd.databricks.v1+cell": {
     "cellMetadata": {},
     "inputWidgets": {},
     "nuid": "aab30f5a-2aae-4247-a5c7-afaf4bd58447",
     "showTitle": false,
     "title": ""
    }
   },
   "source": [
    "## ECG Processing"
   ]
  },
  {
   "cell_type": "code",
   "execution_count": 0,
   "metadata": {
    "application/vnd.databricks.v1+cell": {
     "cellMetadata": {
      "byteLimit": 2048000,
      "rowLimit": 10000
     },
     "inputWidgets": {},
     "nuid": "7b478d1b-2fc5-44bd-bb66-17b319e15101",
     "showTitle": false,
     "title": ""
    }
   },
   "outputs": [],
   "source": [
    "import wfdb\n",
    "from wfdb import processing"
   ]
  },
  {
   "cell_type": "code",
   "execution_count": 0,
   "metadata": {
    "application/vnd.databricks.v1+cell": {
     "cellMetadata": {
      "byteLimit": 2048000,
      "rowLimit": 10000
     },
     "inputWidgets": {},
     "nuid": "603f705b-3e72-4066-bc9a-aa8aadaa0428",
     "showTitle": false,
     "title": ""
    }
   },
   "outputs": [],
   "source": [
    "# Demo 19 - Use the GQRS detection algorithm and correct the peaks\n",
    "\n",
    "def peaks_hr(sig, peak_inds, fs, title, figsize=(20, 10), saveto=None):\n",
    "    \"Plot a signal with its peaks and heart rate\"\n",
    "    # Calculate heart rate\n",
    "    hrs = processing.hr.compute_hr(sig_len=sig.shape[0], qrs_inds=peak_inds, fs=fs)\n",
    "    \n",
    "    N = sig.shape[0]\n",
    "    \n",
    "    fig, ax_left = plt.subplots(figsize=figsize)\n",
    "    ax_right = ax_left.twinx()\n",
    "    \n",
    "    ax_left.plot(sig, color='#3979f0', label='Signal')\n",
    "    ax_left.plot(peak_inds, sig[peak_inds], 'rx', marker='x', \n",
    "                 color='#8b0000', label='Peak', markersize=12)\n",
    "    ax_right.plot(np.arange(N), hrs, label='Heart rate', color='m', linewidth=2)\n",
    "\n",
    "    ax_left.set_title(title)\n",
    "\n",
    "    ax_left.set_xlabel('Time (ms)')\n",
    "    ax_left.set_ylabel('ECG (mV)', color='#3979f0')\n",
    "    ax_right.set_ylabel('Heart rate (bpm)', color='m')\n",
    "    # Make the y-axis label, ticks and tick labels match the line color.\n",
    "    ax_left.tick_params('y', colors='#3979f0')\n",
    "    ax_right.tick_params('y', colors='m')\n",
    "    if saveto is not None:\n",
    "        plt.savefig(saveto, dpi=600)\n",
    "    plt.show()\n",
    "\n",
    "# Load the WFDB record and the physical samples\n",
    "record = wfdb.rdrecord('/Volumes/catalog1/schema1/data/respiration/bidmc01', sampfrom=0, sampto=10000, channels=[0])\n",
    "\n",
    "# Use the GQRS algorithm to detect QRS locations in the first channel\n",
    "qrs_inds = processing.qrs.gqrs_detect(sig=record.p_signal[:,0], fs=record.fs)\n",
    "\n",
    "# Plot results\n",
    "peaks_hr(sig=record.p_signal, peak_inds=qrs_inds, fs=record.fs,\n",
    "         title=\"GQRS peak detection on record 100\")\n",
    "    \n",
    "# Correct the peaks shifting them to local maxima\n",
    "min_bpm = 20\n",
    "max_bpm = 230\n",
    "#min_gap = record.fs * 60 / min_bpm\n",
    "# Use the maximum possible bpm as the search radius\n",
    "search_radius = int(record.fs * 60 / max_bpm)\n",
    "corrected_peak_inds = processing.peaks.correct_peaks(record.p_signal[:,0], \n",
    "                                                     peak_inds=qrs_inds,\n",
    "                                                     search_radius=search_radius, \n",
    "                                                     smooth_window_size=150)\n",
    "\n",
    "# Display results\n",
    "print('Corrected GQRS detected peak indices:', sorted(corrected_peak_inds))\n",
    "peaks_hr(sig=record.p_signal, peak_inds=sorted(corrected_peak_inds), fs=record.fs,\n",
    "         title=\"Corrected GQRS peak detection on sampledata/100\")\n",
    "    "
   ]
  },
  {
   "cell_type": "code",
   "execution_count": 0,
   "metadata": {
    "application/vnd.databricks.v1+cell": {
     "cellMetadata": {},
     "inputWidgets": {},
     "nuid": "617498da-7613-48f7-9dfc-3efe5bd6a76f",
     "showTitle": false,
     "title": ""
    }
   },
   "outputs": [],
   "source": [
    "# Demo 20 - Use the XQRS detection algorithm and compare results to reference annotations\n",
    "import wfdb\n",
    "from wfdb import processing\n",
    "sig, fields = wfdb.rdsamp('sample-data/100', channels=[0], sampto=15000)\n",
    "ann_ref = wfdb.rdann('sample-data/100','atr', sampto=15000)\n",
    "\n",
    "# Run QRS detection on signal\n",
    "xqrs = processing.XQRS(sig=sig[:,0], fs=fields['fs'])\n",
    "xqrs.detect()\n",
    "# Alternatively, use the gateway function to get the QRS indices directly\n",
    "# qrs_inds = processing.xqrs_detect(sig=sig[:,0], fs=fields['fs'])\n",
    "\n",
    "# Compare detected QRS complexes to reference annotation.\n",
    "# Note, first sample in 100.atr is not a QRS.\n",
    "comparitor = processing.compare_annotations(ref_sample=ann_ref.sample[1:],\n",
    "                                            test_sample=xqrs.qrs_inds,\n",
    "                                            window_width=int(0.1 * fields['fs']),\n",
    "                                            signal=sig[:,0])\n",
    "\n",
    "# Print and plot the results\n",
    "comparitor.print_summary()\n",
    "comparitor.plot(title='xqrs detected QRS vs reference annotations')"
   ]
  },
  {
   "cell_type": "code",
   "execution_count": 0,
   "metadata": {
    "application/vnd.databricks.v1+cell": {
     "cellMetadata": {},
     "inputWidgets": {},
     "nuid": "e1db91e1-3b0b-4e2d-aba5-69252407153a",
     "showTitle": false,
     "title": ""
    }
   },
   "outputs": [],
   "source": [
    "# Demo 21 - Convert records to dataframes\n",
    "import wfdb\n",
    "record = wfdb.rdrecord('sample-data/100', sampto=2000)\n",
    "df = record.to_dataframe()\n",
    "df.plot();"
   ]
  },
  {
   "cell_type": "code",
   "execution_count": 0,
   "metadata": {
    "application/vnd.databricks.v1+cell": {
     "cellMetadata": {},
     "inputWidgets": {},
     "nuid": "be6ec3ad-1c56-45bd-be65-bf8241db531b",
     "showTitle": false,
     "title": ""
    },
    "pycharm": {
     "name": "#%%\n"
    }
   },
   "outputs": [],
   "source": [
    "# Cleanup for all demos\n",
    "for file in ['100x.hea', '100.dat',  # demo 10\n",
    "             'ecg-record.hea', 'ecg-record.dat',  # demo 11 \n",
    "             'test01_00s_framex.hea', 'test01_00s.dat',  # demo 12\n",
    "             '100.cpy',  # demo 13\n",
    "             'b001.cpy',  # demo 14\n",
    "            ]:\n",
    "    if os.path.isfile(file):\n",
    "        os.remove(file)\n",
    "\n",
    "dl_dir = os.path.join(cwd, 'tmp_dl_dir')  # demo 17, 18\n",
    "if os.path.isdir(dl_dir):\n",
    "    shutil.rmtree(dl_dir)"
   ]
  },
  {
   "cell_type": "code",
   "execution_count": 0,
   "metadata": {
    "application/vnd.databricks.v1+cell": {
     "cellMetadata": {},
     "inputWidgets": {},
     "nuid": "e907b858-b4c0-4391-915d-591503b9f723",
     "showTitle": false,
     "title": ""
    }
   },
   "outputs": [],
   "source": [
    "import wfdb\n",
    "record_no_skew = wfdb.rdrecord('sample-data/test01_00s_skewframe',\n",
    "                               physical=False,\n",
    "                               smooth_frames=False, ignore_skew=True)\n",
    "record_no_skew.wrsamp(expanded=True)"
   ]
  },
  {
   "cell_type": "code",
   "execution_count": 0,
   "metadata": {
    "application/vnd.databricks.v1+cell": {
     "cellMetadata": {},
     "inputWidgets": {},
     "nuid": "226aab46-ecfc-4054-bda6-5b079824468e",
     "showTitle": false,
     "title": ""
    }
   },
   "outputs": [],
   "source": [
    "import numpy as np\n",
    "int_types = (int, np.int64, np.int32, np.int16, np.int8)\n",
    "\n",
    "int_types[0]('10')"
   ]
  }
 ],
 "metadata": {
  "application/vnd.databricks.v1+notebook": {
   "dashboards": [],
   "language": "python",
   "notebookMetadata": {
    "pythonIndentUnit": 4
   },
   "notebookName": "Python waveform-database",
   "widgets": {}
  },
  "kernelspec": {
   "display_name": "Python (wfdb)",
   "language": "python",
   "name": "wfdb"
  },
  "language_info": {
   "codemirror_mode": {
    "name": "ipython",
    "version": 3
   },
   "file_extension": ".py",
   "mimetype": "text/x-python",
   "name": "python",
   "nbconvert_exporter": "python",
   "pygments_lexer": "ipython3",
   "version": "3.8.10"
  }
 },
 "nbformat": 4,
 "nbformat_minor": 0
}
